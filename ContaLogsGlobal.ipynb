{
 "cells": [
  {
   "cell_type": "code",
   "execution_count": 26,
   "metadata": {},
   "outputs": [],
   "source": [
    "import glob\n",
    "import numpy as np\n",
    "import pandas as pd"
   ]
  },
  {
   "cell_type": "code",
   "execution_count": 61,
   "metadata": {},
   "outputs": [],
   "source": [
    "#caminho ed onde se encontram os logs do moodle\n",
    "caminho = \"/home/manolo/Documentos/UDELAR/logs/bio/\""
   ]
  },
  {
   "cell_type": "code",
   "execution_count": 62,
   "metadata": {},
   "outputs": [],
   "source": [
    "#inicial dos arquivos e tipo deles\n",
    "tipoArc = \"logs*.csv\""
   ]
  },
  {
   "cell_type": "code",
   "execution_count": 63,
   "metadata": {},
   "outputs": [],
   "source": [
    "caminhoFinal = caminho + tipoArc"
   ]
  },
  {
   "cell_type": "code",
   "execution_count": 64,
   "metadata": {},
   "outputs": [
    {
     "name": "stdout",
     "output_type": "stream",
     "text": [
      "/home/manolo/Documentos/UDELAR/logs/bio/logs*.csv\n"
     ]
    }
   ],
   "source": [
    "print(caminhoFinal)"
   ]
  },
  {
   "cell_type": "code",
   "execution_count": 65,
   "metadata": {},
   "outputs": [
    {
     "name": "stdout",
     "output_type": "stream",
     "text": [
      "/home/manolo/Documentos/UDELAR/logs/bio/\n"
     ]
    }
   ],
   "source": [
    "print(caminho)"
   ]
  },
  {
   "cell_type": "code",
   "execution_count": 66,
   "metadata": {},
   "outputs": [],
   "source": [
    "for f in glob.glob(caminhoFinal):\n",
    "    #print(f)\n",
    "    nameArc = f\n",
    "    #print(type(nameArc))\n",
    "    nameArc = nameArc.rsplit(\"/\", -1)\n",
    "    #print(nameArc[-1])\n",
    "    nameSave = \"Int\"+nameArc[-1]\n",
    "    save = caminho + nameSave\n",
    "    \n",
    "    logs = pd.read_csv(f)\n",
    "    #retira primeira parte da string\n",
    "    logs['Description'] = logs['Description'].replace({'The user with id' : ''}, regex=True)\n",
    "    #Substitui as aspas\n",
    "    logs['Description'] = logs['Description'].replace({\"'\" : ''}, regex=True)\n",
    "    #substitui o espaço por -\n",
    "    logs['Description'] = logs['Description'].replace({\" \" : '-'}, regex=True)\n",
    "    #splita a string pelo -, passa o segundo elemento do vetor resultante para o df original\n",
    "    logs['Description'] = logs['Description'].str.rsplit(\"-\", 0).str[1]\n",
    "    contaInteracoes = logs.groupby('Description')['Time'].count()\n",
    "    #salva no arquivo novo\n",
    "    contaInteracoes.to_csv(save, header=True)"
   ]
  },
  {
   "cell_type": "code",
   "execution_count": null,
   "metadata": {},
   "outputs": [],
   "source": []
  },
  {
   "cell_type": "code",
   "execution_count": null,
   "metadata": {},
   "outputs": [],
   "source": []
  }
 ],
 "metadata": {
  "kernelspec": {
   "display_name": "Python 3",
   "language": "python",
   "name": "python3"
  },
  "language_info": {
   "codemirror_mode": {
    "name": "ipython",
    "version": 3
   },
   "file_extension": ".py",
   "mimetype": "text/x-python",
   "name": "python",
   "nbconvert_exporter": "python",
   "pygments_lexer": "ipython3",
   "version": "3.6.8"
  }
 },
 "nbformat": 4,
 "nbformat_minor": 2
}
