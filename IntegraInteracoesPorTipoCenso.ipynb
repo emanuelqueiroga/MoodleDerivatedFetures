{
 "cells": [
  {
   "cell_type": "code",
   "execution_count": 1,
   "metadata": {},
   "outputs": [],
   "source": [
    "import numpy as np\n",
    "import pandas as pd"
   ]
  },
  {
   "cell_type": "code",
   "execution_count": 2,
   "metadata": {},
   "outputs": [],
   "source": [
    "nomeArq = 'TypeIntlogs_Química Orgánica I Química II 2018_20191015-1717.csv'"
   ]
  },
  {
   "cell_type": "code",
   "execution_count": 3,
   "metadata": {},
   "outputs": [],
   "source": [
    "codDisciplina = 32396"
   ]
  },
  {
   "cell_type": "code",
   "execution_count": 4,
   "metadata": {},
   "outputs": [],
   "source": [
    "caminho = \"~/Documentos/UDELAR/logs/bio/\""
   ]
  },
  {
   "cell_type": "code",
   "execution_count": 5,
   "metadata": {},
   "outputs": [],
   "source": [
    "read = caminho + nomeArq"
   ]
  },
  {
   "cell_type": "code",
   "execution_count": 6,
   "metadata": {},
   "outputs": [],
   "source": [
    "moodle = pd.read_csv(read)"
   ]
  },
  {
   "cell_type": "code",
   "execution_count": 7,
   "metadata": {},
   "outputs": [
    {
     "name": "stdout",
     "output_type": "stream",
     "text": [
      "~/Documentos/UDELAR/logs/bio/TypeIntlogs_Química Orgánica I Química II 2018_20191015-1717.csv\n"
     ]
    }
   ],
   "source": [
    "print(read)"
   ]
  },
  {
   "cell_type": "code",
   "execution_count": 8,
   "metadata": {},
   "outputs": [],
   "source": [
    "resultadoxcenso = pd.read_csv('Documentos/UDELAR/6.0_RESULTADOxCENSO_varsNovo.csv', low_memory=False)"
   ]
  },
  {
   "cell_type": "code",
   "execution_count": 9,
   "metadata": {},
   "outputs": [],
   "source": [
    "#resultadoxcenso.tail"
   ]
  },
  {
   "cell_type": "code",
   "execution_count": null,
   "metadata": {},
   "outputs": [],
   "source": []
  },
  {
   "cell_type": "code",
   "execution_count": 10,
   "metadata": {},
   "outputs": [],
   "source": [
    "#só na primeira vez que rodar o script\n",
    "#resultadoxcenso['Folder'] = 0\n",
    "#resultadoxcenso['Forum'] = 0\n",
    "#resultadoxcenso['Page'] = 0\n",
    "#resultadoxcenso['Quiz'] = 0\n",
    "#resultadoxcenso['URL'] = 0\n"
   ]
  },
  {
   "cell_type": "code",
   "execution_count": 11,
   "metadata": {},
   "outputs": [],
   "source": [
    "#list(resultadoxcenso)"
   ]
  },
  {
   "cell_type": "code",
   "execution_count": 12,
   "metadata": {},
   "outputs": [
    {
     "data": {
      "text/plain": [
       "['Description', 'Component', 'Time']"
      ]
     },
     "execution_count": 12,
     "metadata": {},
     "output_type": "execute_result"
    }
   ],
   "source": [
    "list(moodle)"
   ]
  },
  {
   "cell_type": "code",
   "execution_count": 13,
   "metadata": {},
   "outputs": [
    {
     "name": "stdout",
     "output_type": "stream",
     "text": [
      "index = 125\n",
      "\n",
      "\n",
      "\n",
      "\n",
      "\n",
      "index = 2236\n",
      "\n",
      "\n",
      "\n",
      "\n",
      "\n",
      "index = 2237\n",
      "\n",
      "\n",
      "\n",
      "\n",
      "\n",
      "index = 4679\n",
      "\n",
      "\n",
      "\n",
      "\n",
      "\n"
     ]
    }
   ],
   "source": [
    "for index, row in resultadoxcenso.iterrows():\n",
    "    #id_moodle = row['Description']\n",
    "    #temp = int(row['codigo_persona'])\n",
    "    if int(row['codigo_mat']) == codDisciplina:\n",
    "        print('index = ' + str(index) )\n",
    "        #busca = \"Description == '\" + str(row['Id_moodle'])+ \"' and Component = 'Folder'\"\n",
    "        folder = \"Description == '\" + str(row['Id_moodle'])+ \"'\" + \" & Component == 'Folder'\"\n",
    "        forum = \"Description == '\" + str(row['Id_moodle'])+ \"' & Component == 'Forum'\"\n",
    "        page = \"Description == '\" + str(row['Id_moodle'])+ \"' & Component == 'Page'\"\n",
    "        quiz = \"Description == '\" + str(row['Id_moodle'])+ \"' & Component == 'Quiz'\"\n",
    "        url = \"Description == '\" + str(row['Id_moodle'])+ \"' & Component == 'URL'\"\n",
    "        #print(folder)\n",
    "        interFolder = moodle.query(folder)[['Time']].values\n",
    "        interForum = moodle.query(forum)[['Time']].values\n",
    "        interPage = moodle.query(page)[['Time']].values\n",
    "        interQuiz = moodle.query(quiz)[['Time']].values\n",
    "        interURL = moodle.query(url)[['Time']].values\n",
    "        \n",
    "        interFolder = str(interFolder).replace(' ','').replace(\"'\",'').replace('[','').replace(']','')\n",
    "        interForum = str(interForum).replace(' ','').replace(\"'\",'').replace('[','').replace(']','')\n",
    "        interPage = str(interPage).replace(' ','').replace(\"'\",'').replace('[','').replace(']','')\n",
    "        interQuiz = str(interQuiz).replace(' ','').replace(\"'\",'').replace('[','').replace(']','')\n",
    "        interURL = str(interURL).replace(' ','').replace(\"'\",'').replace('[','').replace(']','')\n",
    "        \n",
    "        print(interFolder)\n",
    "        print(interForum)\n",
    "        print(interPage)\n",
    "        print(interQuiz)\n",
    "        print(interURL)\n",
    "        resultadoxcenso.loc[index, 'Folder'] = interFolder\n",
    "        resultadoxcenso.loc[index, 'Forum'] = interForum\n",
    "        resultadoxcenso.loc[index, 'Page'] = interPage\n",
    "        resultadoxcenso.loc[index, 'Quiz'] = interQuiz\n",
    "        resultadoxcenso.loc[index, 'URL'] = interURL\n",
    "    #print(temp)"
   ]
  },
  {
   "cell_type": "code",
   "execution_count": 14,
   "metadata": {},
   "outputs": [
    {
     "name": "stdout",
     "output_type": "stream",
     "text": [
      "index = 125\n",
      "\n",
      "\n",
      "\n",
      "\n",
      "\n",
      "index = 2236\n",
      "\n",
      "2\n",
      "\n",
      "101\n",
      "11\n",
      "index = 2237\n",
      "\n",
      "2\n",
      "\n",
      "101\n",
      "11\n",
      "index = 4679\n",
      "\n",
      "\n",
      "\n",
      "\n",
      "\n"
     ]
    }
   ],
   "source": [
    "for index, row in resultadoxcenso.iterrows():\n",
    "    #id_moodle = row['Description']\n",
    "    #temp = int(row['codigo_persona'])\n",
    "    if int(row['codigo_mat']) == codDisciplina:\n",
    "        print('index = ' + str(index) )\n",
    "        #busca = \"Description == '\" + str(row['Id_moodle'])+ \"' and Component = 'Folder'\"\n",
    "        folder = \"Description == '\" + str(row['Id_moodle'])+ \"'\" + \" & Component == 'Folder'\"\n",
    "        forum = \"Description == '\" + str(row['Id_moodle'])+ \"' & Component == 'Forum'\"\n",
    "        page = \"Description == '\" + str(row['Id_moodle'])+ \"' & Component == 'Page'\"\n",
    "        quiz = \"Description == '\" + str(row['Id_moodle'])+ \"' & Component == 'Quiz'\"\n",
    "        url = \"Description == '\" + str(row['Id_moodle'])+ \"' & Component == 'URL'\"\n",
    "        #print(folder)\n",
    "        interFolder = moodle.query(folder)[['Time']].values\n",
    "        interForum = moodle.query(forum)[['Time']].values\n",
    "        interPage = moodle.query(page)[['Time']].values\n",
    "        interQuiz = moodle.query(quiz)[['Time']].values\n",
    "        interURL = moodle.query(url)[['Time']].values\n",
    "        \n",
    "        interFolder = str(interFolder).replace(' ','').replace(\"'\",'').replace('[','').replace(']','')\n",
    "        interForum = str(interForum).replace(' ','').replace(\"'\",'').replace('[','').replace(']','')\n",
    "        interPage = str(interPage).replace(' ','').replace(\"'\",'').replace('[','').replace(']','')\n",
    "        interQuiz = str(interQuiz).replace(' ','').replace(\"'\",'').replace('[','').replace(']','')\n",
    "        interURL = str(interURL).replace(' ','').replace(\"'\",'').replace('[','').replace(']','')\n",
    "        \n",
    "        print(interFolder)\n",
    "        print(interForum)\n",
    "        print(interPage)\n",
    "        print(interQuiz)\n",
    "        print(interURL)\n",
    "        resultadoxcenso.loc[index, 'Folder'] = interFolder\n",
    "        resultadoxcenso.loc[index, 'Forum'] = interForum\n",
    "        resultadoxcenso.loc[index, 'Page'] = interPage\n",
    "        resultadoxcenso.loc[index, 'Quiz'] = interQuiz\n",
    "        resultadoxcenso.loc[index, 'URL'] = interURL\n",
    "    #print(temp)"
   ]
  },
  {
   "cell_type": "code",
   "execution_count": null,
   "metadata": {},
   "outputs": [],
   "source": [
    "for index, row in resultadoxcenso.iterrows():\n",
    "    #id_moodle = row['Description']\n",
    "    #temp = int(row['codigo_persona'])\n",
    "    if int(row['codigo_mat']) == codDisciplina:\n",
    "        print('index = ' + str(index) )\n",
    "        #busca = \"Description == '\" + str(row['Id_moodle'])+ \"' and Component = 'Folder'\"\n",
    "        folder = \"Description == '\" + str(row['Id_moodle'])+ \"'\" + \" & Component == 'Folder'\"\n",
    "        forum = \"Description == '\" + str(row['Id_moodle'])+ \"' & Component == 'Forum'\"\n",
    "        page = \"Description == '\" + str(row['Id_moodle'])+ \"' & Component == 'Page'\"\n",
    "        quiz = \"Description == '\" + str(row['Id_moodle'])+ \"' & Component == 'Quiz'\"\n",
    "        url = \"Description == '\" + str(row['Id_moodle'])+ \"' & Component == 'URL'\"\n",
    "        #print(folder)\n",
    "        interFolder = moodle.query(folder)[['Time']].values\n",
    "        interForum = moodle.query(forum)[['Time']].values\n",
    "        interPage = moodle.query(page)[['Time']].values\n",
    "        interQuiz = moodle.query(quiz)[['Time']].values\n",
    "        interURL = moodle.query(url)[['Time']].values\n",
    "        \n",
    "        interFolder = str(interFolder).replace(' ','').replace(\"'\",'').replace('[','').replace(']','')\n",
    "        interForum = str(interForum).replace(' ','').replace(\"'\",'').replace('[','').replace(']','')\n",
    "        interPage = str(interPage).replace(' ','').replace(\"'\",'').replace('[','').replace(']','')\n",
    "        interQuiz = str(interQuiz).replace(' ','').replace(\"'\",'').replace('[','').replace(']','')\n",
    "        interURL = str(interURL).replace(' ','').replace(\"'\",'').replace('[','').replace(']','')\n",
    "        \n",
    "        print(interFolder)\n",
    "        print(interForum)\n",
    "        print(interPage)\n",
    "        print(interQuiz)\n",
    "        print(interURL)\n",
    "        resultadoxcenso.loc[index, 'Folder'] = interFolder\n",
    "        resultadoxcenso.loc[index, 'Forum'] = interForum\n",
    "        resultadoxcenso.loc[index, 'Page'] = interPage\n",
    "        resultadoxcenso.loc[index, 'Quiz'] = interQuiz\n",
    "        resultadoxcenso.loc[index, 'URL'] = interURL\n",
    "    #print(temp)"
   ]
  },
  {
   "cell_type": "code",
   "execution_count": 15,
   "metadata": {},
   "outputs": [],
   "source": [
    "resultadoxcenso.to_csv('Documentos/UDELAR/6.0_RESULTADOxCENSO_varsNovo.csv', header=True)"
   ]
  },
  {
   "cell_type": "code",
   "execution_count": null,
   "metadata": {},
   "outputs": [],
   "source": []
  }
 ],
 "metadata": {
  "kernelspec": {
   "display_name": "Python 3",
   "language": "python",
   "name": "python3"
  },
  "language_info": {
   "codemirror_mode": {
    "name": "ipython",
    "version": 3
   },
   "file_extension": ".py",
   "mimetype": "text/x-python",
   "name": "python",
   "nbconvert_exporter": "python",
   "pygments_lexer": "ipython3",
   "version": "3.6.7"
  }
 },
 "nbformat": 4,
 "nbformat_minor": 2
}
