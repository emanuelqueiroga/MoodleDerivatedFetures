{
 "cells": [
  {
   "cell_type": "code",
   "execution_count": 1,
   "metadata": {},
   "outputs": [],
   "source": [
    "import glob\n",
    "import numpy as np\n",
    "import pandas as pd"
   ]
  },
  {
   "cell_type": "code",
   "execution_count": 2,
   "metadata": {},
   "outputs": [],
   "source": [
    "#caminho ed onde se encontram os logs do moodle\n",
    "caminho = \"/home/manolo/Documentos/UDELAR/logs/enf/\""
   ]
  },
  {
   "cell_type": "code",
   "execution_count": 3,
   "metadata": {},
   "outputs": [],
   "source": [
    "#inicial dos arquivos e tipo deles\n",
    "tipoArc = \"logs*.csv\""
   ]
  },
  {
   "cell_type": "code",
   "execution_count": 4,
   "metadata": {},
   "outputs": [],
   "source": [
    "caminhoFinal = caminho + tipoArc"
   ]
  },
  {
   "cell_type": "code",
   "execution_count": 5,
   "metadata": {},
   "outputs": [
    {
     "name": "stdout",
     "output_type": "stream",
     "text": [
      "/home/manolo/Documentos/UDELAR/logs/enf/logs*.csv\n"
     ]
    }
   ],
   "source": [
    "print(caminhoFinal)"
   ]
  },
  {
   "cell_type": "code",
   "execution_count": 6,
   "metadata": {},
   "outputs": [
    {
     "name": "stdout",
     "output_type": "stream",
     "text": [
      "/home/manolo/Documentos/UDELAR/logs/enf/\n"
     ]
    }
   ],
   "source": [
    "print(caminho)"
   ]
  },
  {
   "cell_type": "code",
   "execution_count": 7,
   "metadata": {},
   "outputs": [
    {
     "name": "stdout",
     "output_type": "stream",
     "text": [
      "/home/manolo/Documentos/UDELAR/logs/enf/logs_AyA 2018_20191015-1154.csv\n",
      "/home/manolo/Documentos/UDELAR/logs/enf/logs_ESFUNO Plan 93 2017_20191015-1152.csv\n",
      "/home/manolo/Documentos/UDELAR/logs/enf/logs_Micro-AyA 2018-P93-CURE_20191015-1200.csv\n",
      "/home/manolo/Documentos/UDELAR/logs/enf/logs_Microbiología2-2018_20191015-1126.csv\n",
      "/home/manolo/Documentos/UDELAR/logs/enf/logs_Metod_CientificaII2018.csv\n",
      "/home/manolo/Documentos/UDELAR/logs/enf/logs_Administración I 2018_20191015-1124.csv\n"
     ]
    }
   ],
   "source": [
    "for f in glob.glob(caminhoFinal):\n",
    "    print(f)\n",
    "    nameArc = f\n",
    "    #print(type(nameArc))\n",
    "    nameArc = nameArc.rsplit(\"/\", -1)\n",
    "    #print(nameArc[-1])\n",
    "    nameSave = \"Int\"+nameArc[-1]\n",
    "    save = caminho + \"Type\" + nameSave\n",
    "    \n",
    "    logs = pd.read_csv(f)\n",
    "    #retira primeira parte da string\n",
    "    logs['Description'] = logs['Description'].replace({'The user with id' : ''}, regex=True)\n",
    "    #Substitui as aspas\n",
    "    logs['Description'] = logs['Description'].replace({\"'\" : ''}, regex=True)\n",
    "    #substitui o espaço por -\n",
    "    logs['Description'] = logs['Description'].replace({\" \" : '-'}, regex=True)\n",
    "    #splita a string pelo -, passa o segundo elemento do vetor resultante para o df original\n",
    "    logs['Description'] = logs['Description'].str.rsplit(\"-\", 0).str[1]\n",
    "    contaInteracoes = logs.groupby(['Description', 'Component'])['Time'].nunique()\n",
    "    #contaInteracoes = logs.groupby('Description')['Time'].count()\n",
    "    #salva no arquivo novo\n",
    "    contaInteracoes.to_csv(save, header=True)"
   ]
  },
  {
   "cell_type": "code",
   "execution_count": null,
   "metadata": {},
   "outputs": [],
   "source": []
  },
  {
   "cell_type": "code",
   "execution_count": null,
   "metadata": {},
   "outputs": [],
   "source": []
  }
 ],
 "metadata": {
  "kernelspec": {
   "display_name": "Python 3",
   "language": "python",
   "name": "python3"
  },
  "language_info": {
   "codemirror_mode": {
    "name": "ipython",
    "version": 3
   },
   "file_extension": ".py",
   "mimetype": "text/x-python",
   "name": "python",
   "nbconvert_exporter": "python",
   "pygments_lexer": "ipython3",
   "version": "3.6.8"
  }
 },
 "nbformat": 4,
 "nbformat_minor": 2
}
